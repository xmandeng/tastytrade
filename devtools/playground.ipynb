{
 "cells": [
  {
   "cell_type": "markdown",
   "metadata": {},
   "source": [
    "# Market Data Integration Guide\n",
    "\n",
    "## Overview\n",
    "This guide covers integrating with TastyTrade's market data API using Python WebSocket implementation, with a focus on asyncio-based approach.\n",
    "\n",
    "## TastyTrade API Resources\n",
    "- [Developer Portal](https://developer.tastytrade.com/)\n",
    "- [Streaming Market Data Documentation](https://developer.tastytrade.com/streaming-market-data/)\n",
    "- [DXLink Protocol Reference](https://demo.dxfeed.com/dxlink-ws/debug/#/protocol)\n",
    "\n",
    "## WebSocket Implementation Details\n",
    "\n",
    "### Selected Library\n",
    "We'll be using the [websockets](https://websockets.readthedocs.io/en/stable/) library for Python, which provides high-level WebSocket implementation (not to be confused with the lower-level `websocket` library).\n",
    "\n",
    "### Key Resources\n",
    "- **Documentation**: Complete guides available on [readthedocs.io](https://websockets.readthedocs.io/en/stable/)\n",
    "- **Reference Implementation**: [Example using Threading](https://github.com/LordKaT/tastytrade_api_thing/blob/main/lib/TTWebsocket.py) by [LordKaT](https://github.com/LordKaT)\n",
    "\n",
    "### Technical Approach\n",
    "The implementation will use `asyncio` due to its comprehensive [feature support](https://websockets.readthedocs.io/en/stable/reference/features.html) in the websockets library.\n",
    "\n",
    "### AsyncIO Learning Resources\n",
    "For better understanding of the asyncio implementation:\n",
    "- [How does async/await work in Python 3.5](https://snarky.ca/how-the-heck-does-async-await-work-in-python-3-5/)\n",
    "- [Cooperative multitasking with Coroutines](https://pymotw.com/3/asyncio/coroutines.html)\n",
    "- [A Curious course on Coroutines and Concurrency](http://www.dabeaz.com/coroutines/)\n",
    "\n",
    "## Implementation Notes\n",
    "While previous experience has been primarily with traditional threading, this project will explore asyncio-based implementation for its potential benefits in handling WebSocket connections."
   ]
  },
  {
   "cell_type": "code",
   "execution_count": 1,
   "metadata": {},
   "outputs": [],
   "source": [
    "import logging\n",
    "\n",
    "import asyncio\n",
    "from tastytrade.logging import setup_logging\n",
    "from tastytrade.sessions import Credentials\n",
    "from tastytrade.sessions.requests import AsyncSessionHandler\n",
    "from tastytrade.sessions.sockets import WebSocketManager\n",
    "from tastytrade.sessions.messaging import Channels\n",
    "from tastytrade.sessions.dxlink import DXLinkClient\n",
    "\n",
    "\n",
    "logging.getLogger().handlers.clear()\n",
    "logger = logging.getLogger(__name__)\n",
    "setup_logging(logging.DEBUG)\n",
    "\n",
    "TEST = True\n",
    "ENV = \"Live\"\n",
    "\n",
    "shutdown = asyncio.Event()"
   ]
  },
  {
   "cell_type": "code",
   "execution_count": null,
   "metadata": {},
   "outputs": [],
   "source": [
    "session = await AsyncSessionHandler.create(Credentials(env=ENV))\n",
    "\n",
    "async with WebSocketManager(session) as websocket:\n",
    "    dxlink_client = DXLinkClient(websocket)\n",
    "    await dxlink_client.setup_feed(Channels.Quotes)\n",
    "    await dxlink_client.subscribe_to_feed(Channels.Quotes)\n",
    "\n",
    "    # Needed to keep the websocket open\n",
    "    # await websocket.send_keepalives()\n",
    "    await asyncio.sleep(5)\n",
    "\n",
    "    await dxlink_client.queue_manager.cleanup()\n",
    "\n",
    "await session.close()"
   ]
  },
  {
   "cell_type": "code",
   "execution_count": null,
   "metadata": {},
   "outputs": [],
   "source": [
    "session = await AsyncSessionHandler.create(Credentials(env=ENV))\n",
    "\n",
    "exlink = WebSocketManager(session)\n",
    "await exlink.open()"
   ]
  },
  {
   "cell_type": "code",
   "execution_count": null,
   "metadata": {},
   "outputs": [],
   "source": [
    "dxlink_client = DXLinkClient(exlink)\n",
    "await dxlink_client.setup_feed(Channels.Quotes)\n",
    "await dxlink_client.subscribe_to_feed(Channels.Quotes)"
   ]
  },
  {
   "cell_type": "code",
   "execution_count": null,
   "metadata": {},
   "outputs": [],
   "source": [
    "asyncio.all_tasks()"
   ]
  },
  {
   "cell_type": "code",
   "execution_count": null,
   "metadata": {},
   "outputs": [],
   "source": [
    "await exlink.close()"
   ]
  },
  {
   "cell_type": "code",
   "execution_count": null,
   "metadata": {},
   "outputs": [],
   "source": []
  }
 ],
 "metadata": {
  "kernelspec": {
   "display_name": "tasty",
   "language": "python",
   "name": "python3"
  },
  "language_info": {
   "codemirror_mode": {
    "name": "ipython",
    "version": 3
   },
   "file_extension": ".py",
   "mimetype": "text/x-python",
   "name": "python",
   "nbconvert_exporter": "python",
   "pygments_lexer": "ipython3",
   "version": "3.11.4"
  }
 },
 "nbformat": 4,
 "nbformat_minor": 2
}
