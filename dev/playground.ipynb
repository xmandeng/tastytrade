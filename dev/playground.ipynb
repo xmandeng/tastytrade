{
 "cells": [
  {
   "cell_type": "markdown",
   "metadata": {},
   "source": [
    "# Market Data Integration Guide\n",
    "\n",
    "## Overview\n",
    "This guide covers integrating with TastyTrade's market data API using Python WebSocket implementation, with a focus on asyncio-based approach.\n",
    "\n",
    "## TastyTrade API Resources\n",
    "- [Developer Portal](https://developer.tastytrade.com/)\n",
    "- [Streaming Market Data Documentation](https://developer.tastytrade.com/streaming-market-data/)\n",
    "- [DXLink Protocol Reference](https://demo.dxfeed.com/dxlink-ws/debug/#/protocol)\n",
    "\n",
    "## WebSocket Implementation Details\n",
    "\n",
    "### Selected Library\n",
    "We'll be using the [websockets](https://websockets.readthedocs.io/en/stable/) library for Python, which provides high-level WebSocket implementation (not to be confused with the lower-level `websocket` library).\n",
    "\n",
    "### Key Resources\n",
    "- **Documentation**: Complete guides available on [readthedocs.io](https://websockets.readthedocs.io/en/stable/)\n",
    "- **Reference Implementation**: [Example using Threading](https://github.com/LordKaT/tastytrade_api_thing/blob/main/lib/TTWebsocket.py) by [LordKaT](https://github.com/LordKaT)\n",
    "\n",
    "### Technical Approach\n",
    "The implementation will use `asyncio` due to its comprehensive [feature support](https://websockets.readthedocs.io/en/stable/reference/features.html) in the websockets library.\n",
    "\n",
    "### AsyncIO Learning Resources\n",
    "For better understanding of the asyncio implementation:\n",
    "- [How does async/await work in Python 3.5](https://snarky.ca/how-the-heck-does-async-await-work-in-python-3-5/)\n",
    "- [Cooperative multitasking with Coroutines](https://pymotw.com/3/asyncio/coroutines.html)\n",
    "- [A Curious course on Coroutines and Concurrency](http://www.dabeaz.com/coroutines/)\n",
    "\n",
    "## Implementation Notes\n",
    "While previous experience has been primarily with traditional threading, this project will explore asyncio-based implementation for its potential benefits in handling WebSocket connections."
   ]
  },
  {
   "cell_type": "code",
   "execution_count": 2,
   "metadata": {},
   "outputs": [],
   "source": [
    "import logging\n",
    "import asyncio\n",
    "from tastytrade.logging import setup_logging\n",
    "from tastytrade.sessions import Credentials\n",
    "from tastytrade.sessions.requests import AsyncSessionHandler\n",
    "from tastytrade.sessions.sockets import WebSocketManager\n",
    "from tastytrade.sessions.dxlink import DXLinkClient\n",
    "\n",
    "logging.getLogger().handlers.clear()\n",
    "logger = logging.getLogger(__name__)\n",
    "setup_logging(logging.DEBUG)\n",
    "\n",
    "TEST = True\n",
    "ENV = \"Live\""
   ]
  },
  {
   "cell_type": "code",
   "execution_count": 3,
   "metadata": {},
   "outputs": [
    {
     "name": "stderr",
     "output_type": "stream",
     "text": [
      "2024-11-24 22:07:36 - INFO:tastytrade.sessions.requests:144:Session created successfully\n",
      "2024-11-24 22:07:36 - DEBUG:tastytrade.sessions.requests:155:Retrieved dxlink token\n",
      "2024-11-24 22:07:37 - DEBUG:websockets.client:175:= connection is CONNECTING\n",
      "2024-11-24 22:07:37 - DEBUG:websockets.client:306:> GET /realtime HTTP/1.1\n",
      "2024-11-24 22:07:37 - DEBUG:websockets.client:308:> Host: tasty-openapi-ws.dxfeed.com\n",
      "2024-11-24 22:07:37 - DEBUG:websockets.client:308:> Upgrade: websocket\n",
      "2024-11-24 22:07:37 - DEBUG:websockets.client:308:> Connection: Upgrade\n",
      "2024-11-24 22:07:37 - DEBUG:websockets.client:308:> Sec-WebSocket-Key: U9vnhe7j3beUIn99knlI2A==\n",
      "2024-11-24 22:07:37 - DEBUG:websockets.client:308:> Sec-WebSocket-Version: 13\n",
      "2024-11-24 22:07:37 - DEBUG:websockets.client:308:> Sec-WebSocket-Extensions: permessage-deflate; client_max_window_bits\n",
      "2024-11-24 22:07:37 - DEBUG:websockets.client:308:> User-Agent: Python/3.11 websockets/14.1\n",
      "2024-11-24 22:07:37 - DEBUG:websockets.client:329:< HTTP/1.1 101 Switching Protocols\n",
      "2024-11-24 22:07:37 - DEBUG:websockets.client:331:< Connection: upgrade\n",
      "2024-11-24 22:07:37 - DEBUG:websockets.client:331:< Date: Mon, 25 Nov 2024 03:07:37 GMT\n",
      "2024-11-24 22:07:37 - DEBUG:websockets.client:331:< upgrade: websocket\n",
      "2024-11-24 22:07:37 - DEBUG:websockets.client:331:< sec-websocket-accept: XkVtCoo8D/R0ihFhIzozCjesvrQ=\n",
      "2024-11-24 22:07:37 - DEBUG:websockets.client:331:< sec-websocket-extensions: permessage-deflate\n",
      "2024-11-24 22:07:37 - DEBUG:websockets.client:331:< X-Cache: Miss from cloudfront\n",
      "2024-11-24 22:07:37 - DEBUG:websockets.client:331:< Via: 1.1 b8e7e4d288487b86cfc6bcf59fb6d08c.cloudfront.net (CloudFront)\n",
      "2024-11-24 22:07:37 - DEBUG:websockets.client:331:< X-Amz-Cf-Pop: JFK52-P10\n",
      "2024-11-24 22:07:37 - DEBUG:websockets.client:331:< X-Amz-Cf-Id: 2o72-kbXSiF-DVLoGn6hu-XYkUCDXpGrI3sokPafjQ4NdzVgiwmB6A==\n",
      "2024-11-24 22:07:37 - DEBUG:websockets.client:175:= connection is OPEN\n",
      "2024-11-24 22:07:37 - DEBUG:websockets.client:745:> TEXT '{\"type\": \"SETUP\", \"channel\": 0, \"version\": \"0.1...tKeepaliveTimeout\": 60}' [116 bytes]\n",
      "2024-11-24 22:07:37 - DEBUG:websockets.client:745:> TEXT '{\"type\": \"AUTH\", \"channel\": 0, \"token\": \"dGFzdH...zWmpXF4sLyewBGA_bYXJU\"}' [181 bytes]\n",
      "2024-11-24 22:07:37 - DEBUG:websockets.client:745:> TEXT '{\"type\": \"CHANNEL_REQUEST\", \"service\": \"FEED\", ... \"AUTO\"}, \"channel\": 1}' [96 bytes]\n",
      "2024-11-24 22:07:37 - DEBUG:websockets.client:745:> TEXT '{\"type\": \"FEED_SETUP\", \"acceptAggregationPeriod...Price\"]}, \"channel\": 1}' [714 bytes]\n",
      "2024-11-24 22:07:37 - DEBUG:websockets.client:745:> TEXT '{\"type\": \"FEED_SUBSCRIPTION\", \"reset\": true, \"a...P5905\"}], \"channel\": 1}' [704 bytes]\n",
      "2024-11-24 22:07:37 - DEBUG:websockets.client:599:< TEXT '{\"type\":\"SETUP\",\"channel\":0,\"keepaliveTimeout\":...1.2.3-20240912-171526\"}' [116 bytes]\n",
      "2024-11-24 22:07:37 - DEBUG:websockets.client:599:< TEXT '{\"type\":\"AUTH_STATE\",\"channel\":0,\"state\":\"UNAUTHORIZED\"}' [56 bytes]\n",
      "2024-11-24 22:07:37 - DEBUG:websockets.client:599:< TEXT '{\"type\":\"AUTH_STATE\",\"channel\":0,\"state\":\"AUTHO...b2b-a5b6-c3c55e961e99\"}' [102 bytes]\n",
      "2024-11-24 22:07:37 - DEBUG:websockets.client:599:< TEXT '{\"type\":\"CHANNEL_OPENED\",\"channel\":1,\"service\":...O\",\"subFormat\":\"LIST\"}}' [106 bytes]\n",
      "2024-11-24 22:07:37 - DEBUG:websockets.client:599:< TEXT '{\"type\":\"FEED_CONFIG\",\"channel\":1,\"dataFormat\":...aggregationPeriod\":0.1}' [81 bytes]\n",
      "2024-11-24 22:07:37 - DEBUG:websockets.client:599:< TEXT '{\"type\":\"FEED_CONFIG\",\"channel\":1,\"dataFormat\":...\"theta\",\"rho\",\"vega\"]}}' [646 bytes]\n",
      "2024-11-24 22:07:37 - INFO:tastytrade.sessions.messages:52:SETUP\n",
      "2024-11-24 22:07:37 - INFO:tastytrade.sessions.messages:57:AUTH_STATE:UNAUTHORIZED\n",
      "2024-11-24 22:07:37 - INFO:tastytrade.sessions.messages:57:AUTH_STATE:AUTHORIZED\n",
      "2024-11-24 22:07:37 - INFO:tastytrade.sessions.messages:62:CHANNEL_OPENED:1\n",
      "2024-11-24 22:07:37 - INFO:tastytrade.sessions.messages:67:FEED_CONFIG:1:COMPACT\n",
      "2024-11-24 22:07:37 - INFO:tastytrade.sessions.messages:67:FEED_CONFIG:1:COMPACT\n",
      "2024-11-24 22:07:37 - DEBUG:websockets.client:599:< TEXT '{\"type\":\"FEED_DATA\",\"channel\":1,\"data\":[\"Profil...\",99248.19,37124.695]]}' [151 bytes]\n",
      "2024-11-24 22:07:37 - DEBUG:websockets.client:599:< TEXT '{\"type\":\"FEED_DATA\",\"channel\":1,\"data\":[\"Profil...,\"NaN\",600.17,453.34]]}' [195 bytes]\n",
      "2024-11-24 22:07:37 - DEBUG:websockets.client:599:< TEXT '{\"type\":\"FEED_DATA\",\"channel\":1,\"data\":[\"Summar...6.15,593.1525,593.67]]}' [168 bytes]\n",
      "2024-11-24 22:07:37 - DEBUG:websockets.client:599:< TEXT '{\"type\":\"FEED_DATA\",\"channel\":1,\"data\":[\"Trade\"....51,3.822639E7,200.0]]}' [89 bytes]\n",
      "2024-11-24 22:07:37 - DEBUG:tastytrade.sessions.messages:104:Processed Profile event for BTC/USD:CXTALP\n",
      "2024-11-24 22:07:37 - DEBUG:tastytrade.sessions.messages:104:Processed Profile event for SPY\n",
      "2024-11-24 22:07:37 - DEBUG:tastytrade.sessions.messages:104:Processed Summary event for BTC/USD:CXTALP\n",
      "2024-11-24 22:07:37 - DEBUG:tastytrade.sessions.messages:104:Processed Trade event for SPY\n",
      "2024-11-24 22:07:37 - DEBUG:websockets.client:599:< TEXT '{\"type\":\"FEED_DATA\",\"channel\":1,\"data\":[\"Trade\"...97602.09,\"NaN\",\"NaN\"]]}' [97 bytes]\n",
      "2024-11-24 22:07:37 - DEBUG:websockets.client:599:< TEXT '{\"type\":\"FEED_DATA\",\"channel\":1,\"data\":[\"Quote\"...25.14,0.00497957,1.5]]}' [109 bytes]\n",
      "2024-11-24 22:07:37 - DEBUG:tastytrade.sessions.messages:104:Processed Trade event for BTC/USD:CXTALP\n",
      "2024-11-24 22:07:37 - DEBUG:tastytrade.sessions.messages:104:Processed Quote event for BTC/USD:CXTALP\n",
      "2024-11-24 22:07:38 - DEBUG:websockets.client:599:< TEXT '{\"type\":\"FEED_DATA\",\"channel\":1,\"data\":[\"Trade\"...97602.09,\"NaN\",\"NaN\"]]}' [97 bytes]\n",
      "2024-11-24 22:07:38 - DEBUG:tastytrade.sessions.messages:104:Processed Trade event for BTC/USD:CXTALP\n",
      "2024-11-24 22:07:38 - INFO:tastytrade.sessions.sockets:113:Websocket listener stopped\n",
      "2024-11-24 22:07:38 - INFO:tastytrade.sessions.sockets:130:Queue processor stopped\n",
      "2024-11-24 22:07:38 - DEBUG:websockets.client:745:> CLOSE 1000 (OK) [2 bytes]\n",
      "2024-11-24 22:07:38 - DEBUG:websockets.client:175:= connection is CLOSING\n",
      "2024-11-24 22:07:38 - DEBUG:websockets.client:599:< CLOSE 1000 (OK) [2 bytes]\n",
      "2024-11-24 22:07:38 - DEBUG:websockets.client:649:< EOF\n",
      "2024-11-24 22:07:38 - DEBUG:websockets.client:757:> EOF\n",
      "2024-11-24 22:07:38 - DEBUG:websockets.client:175:= connection is CLOSED\n",
      "2024-11-24 22:07:38 - DEBUG:websockets.client:960:x closing TCP connection\n",
      "2024-11-24 22:07:38 - INFO:tastytrade.sessions.sockets:86:Websocket closed\n",
      "2024-11-24 22:07:38 - INFO:tastytrade.sessions.requests:165:Session closed\n"
     ]
    }
   ],
   "source": [
    "channel = 1\n",
    "\n",
    "session = await AsyncSessionHandler.create(Credentials(env=ENV))\n",
    "\n",
    "async with WebSocketManager(session) as websocket:\n",
    "    dxlink_client = DXLinkClient(websocket)\n",
    "\n",
    "    await dxlink_client.request_channel(channel)\n",
    "    await dxlink_client.setup_feed(channel)\n",
    "    await dxlink_client.subscribe_to_feed(channel)\n",
    "    await asyncio.sleep(1)\n",
    "\n",
    "await session.close()"
   ]
  },
  {
   "cell_type": "code",
   "execution_count": null,
   "metadata": {},
   "outputs": [],
   "source": [
    "session = await AsyncSessionHandler.create(Credentials(env=ENV))\n",
    "\n",
    "exlink = WebSocketManager(session)\n",
    "txlink = WebSocketManager(session)\n",
    "print(id(exlink) == id(txlink))"
   ]
  },
  {
   "cell_type": "code",
   "execution_count": null,
   "metadata": {},
   "outputs": [],
   "source": [
    "txlink.__dict__"
   ]
  },
  {
   "cell_type": "code",
   "execution_count": null,
   "metadata": {},
   "outputs": [],
   "source": [
    "exlink.sessions"
   ]
  },
  {
   "cell_type": "code",
   "execution_count": null,
   "metadata": {},
   "outputs": [],
   "source": [
    "await exlink.open()"
   ]
  },
  {
   "cell_type": "code",
   "execution_count": null,
   "metadata": {},
   "outputs": [],
   "source": [
    "await asyncio.sleep(5)\n",
    "await exlink.close()"
   ]
  },
  {
   "cell_type": "code",
   "execution_count": null,
   "metadata": {},
   "outputs": [],
   "source": [
    "exlink.sessions"
   ]
  },
  {
   "cell_type": "code",
   "execution_count": 9,
   "metadata": {},
   "outputs": [],
   "source": [
    "# Injector Module Example\n",
    "\n",
    "# def configure(binder):\n",
    "#     binder.bind(Credentials, to=Credentials(env=ENV))\n",
    "\n",
    "\n",
    "# injector = Injector([configure])\n",
    "# session = injector.get(SessionHandler)\n",
    "\n",
    "# session.get_api_quote_token()\n",
    "\n",
    "# session = SessionHandler.create(Credentials(env=\"Test\"))\n",
    "\n",
    "# if TEST:\n",
    "#     session.create_session(Credentials(env=ENV))"
   ]
  },
  {
   "cell_type": "code",
   "execution_count": 10,
   "metadata": {},
   "outputs": [],
   "source": [
    "# new_response = request_options_chains(session, \"SPXW\")\n",
    "# options_chains_df = pd.DataFrame(new_response.json()[\"data\"][\"items\"])"
   ]
  },
  {
   "cell_type": "code",
   "execution_count": 11,
   "metadata": {},
   "outputs": [],
   "source": [
    "# columns = [\n",
    "#     \"underlying-symbol\",\n",
    "#     \"option-type\",\n",
    "#     \"strike-price\",\n",
    "#     \"streamer-symbol\",\n",
    "#     \"symbol\",\n",
    "# ]\n",
    "\n",
    "# rows = (options_chains_df[\"days-to-expiration\"] == 0) & (\n",
    "#     options_chains_df[\"strike-price\"].str.contains(r\"588|590|591\", regex=True)\n",
    "# )\n",
    "\n",
    "# options_chains_df.loc[rows, columns]"
   ]
  },
  {
   "cell_type": "code",
   "execution_count": 1,
   "metadata": {},
   "outputs": [],
   "source": [
    "# session.close_session()"
   ]
  },
  {
   "cell_type": "code",
   "execution_count": null,
   "metadata": {},
   "outputs": [],
   "source": [
    "import asyncio\n",
    "\n",
    "\n",
    "class Worker:\n",
    "    def __init__(self, name):\n",
    "        self.name = name\n",
    "\n",
    "    async def do_work(self):\n",
    "        for i in range(3):\n",
    "            print(f\"{self.name} working on step {i}\")\n",
    "            await asyncio.sleep(1)\n",
    "\n",
    "\n",
    "async def main():\n",
    "    worker1 = Worker(\"Worker1\")\n",
    "    worker2 = Worker(\"Worker2\")\n",
    "\n",
    "    # Run both coroutines concurrently\n",
    "    await asyncio.gather(worker1.do_work(), worker2.do_work())\n",
    "\n",
    "\n",
    "await main()"
   ]
  },
  {
   "cell_type": "code",
   "execution_count": null,
   "metadata": {},
   "outputs": [],
   "source": []
  }
 ],
 "metadata": {
  "kernelspec": {
   "display_name": "tasty",
   "language": "python",
   "name": "python3"
  },
  "language_info": {
   "codemirror_mode": {
    "name": "ipython",
    "version": 3
   },
   "file_extension": ".py",
   "mimetype": "text/x-python",
   "name": "python",
   "nbconvert_exporter": "python",
   "pygments_lexer": "ipython3",
   "version": "3.11.4"
  }
 },
 "nbformat": 4,
 "nbformat_minor": 2
}
