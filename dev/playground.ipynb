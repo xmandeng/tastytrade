{
 "cells": [
  {
   "cell_type": "markdown",
   "metadata": {},
   "source": [
    "# Market Data Integration Guide\n",
    "\n",
    "## Overview\n",
    "This guide covers integrating with TastyTrade's market data API using Python WebSocket implementation, with a focus on asyncio-based approach.\n",
    "\n",
    "## TastyTrade API Resources\n",
    "- [Developer Portal](https://developer.tastytrade.com/)\n",
    "- [Streaming Market Data Documentation](https://developer.tastytrade.com/streaming-market-data/)\n",
    "- [DXLink Protocol Reference](https://demo.dxfeed.com/dxlink-ws/debug/#/protocol)\n",
    "\n",
    "## WebSocket Implementation Details\n",
    "\n",
    "### Selected Library\n",
    "We'll be using the [websockets](https://websockets.readthedocs.io/en/stable/) library for Python, which provides high-level WebSocket implementation (not to be confused with the lower-level `websocket` library).\n",
    "\n",
    "### Key Resources\n",
    "- **Documentation**: Complete guides available on [readthedocs.io](https://websockets.readthedocs.io/en/stable/)\n",
    "- **Reference Implementation**: [Example using Threading](https://github.com/LordKaT/tastytrade_api_thing/blob/main/lib/TTWebsocket.py) by [LordKaT](https://github.com/LordKaT)\n",
    "\n",
    "### Technical Approach\n",
    "The implementation will use `asyncio` due to its comprehensive [feature support](https://websockets.readthedocs.io/en/stable/reference/features.html) in the websockets library.\n",
    "\n",
    "### AsyncIO Learning Resources\n",
    "For better understanding of the asyncio implementation:\n",
    "- [How does async/await work in Python 3.5](https://snarky.ca/how-the-heck-does-async-await-work-in-python-3-5/)\n",
    "- [Cooperative multitasking with Coroutines](https://pymotw.com/3/asyncio/coroutines.html)\n",
    "- [A Curious course on Coroutines and Concurrency](http://www.dabeaz.com/coroutines/)\n",
    "\n",
    "## Implementation Notes\n",
    "While previous experience has been primarily with traditional threading, this project will explore asyncio-based implementation for its potential benefits in handling WebSocket connections."
   ]
  },
  {
   "cell_type": "code",
   "execution_count": 1,
   "metadata": {},
   "outputs": [],
   "source": [
    "import logging\n",
    "import asyncio\n",
    "from tastytrade.utilties import setup_logging\n",
    "from tastytrade import Credentials\n",
    "from tastytrade.session import AsyncSessionHandler, WebSocketManager, DXLinkClient\n",
    "\n",
    "logging.getLogger().handlers.clear()\n",
    "logger = logging.getLogger(__name__)\n",
    "setup_logging(logging.DEBUG)\n",
    "\n",
    "TEST = True\n",
    "ENV = \"Live\""
   ]
  },
  {
   "cell_type": "code",
   "execution_count": 2,
   "metadata": {},
   "outputs": [
    {
     "name": "stderr",
     "output_type": "stream",
     "text": [
      "2024-11-23 21:36:33 - INFO:tastytrade.session:226:Session created successfully\n",
      "2024-11-23 21:36:33 - DEBUG:tastytrade.session:237:Retrieved dxlink token\n",
      "2024-11-23 21:36:33 - DEBUG:websockets.client:175:= connection is CONNECTING\n",
      "2024-11-23 21:36:34 - DEBUG:websockets.client:306:> GET /realtime HTTP/1.1\n",
      "2024-11-23 21:36:34 - DEBUG:websockets.client:308:> Host: tasty-openapi-ws.dxfeed.com\n",
      "2024-11-23 21:36:34 - DEBUG:websockets.client:308:> Upgrade: websocket\n",
      "2024-11-23 21:36:34 - DEBUG:websockets.client:308:> Connection: Upgrade\n",
      "2024-11-23 21:36:34 - DEBUG:websockets.client:308:> Sec-WebSocket-Key: qAa6XgXROXJk1wVN8oOX3w==\n",
      "2024-11-23 21:36:34 - DEBUG:websockets.client:308:> Sec-WebSocket-Version: 13\n",
      "2024-11-23 21:36:34 - DEBUG:websockets.client:308:> Sec-WebSocket-Extensions: permessage-deflate; client_max_window_bits\n",
      "2024-11-23 21:36:34 - DEBUG:websockets.client:308:> User-Agent: Python/3.11 websockets/14.1\n",
      "2024-11-23 21:36:34 - DEBUG:websockets.client:329:< HTTP/1.1 101 Switching Protocols\n",
      "2024-11-23 21:36:34 - DEBUG:websockets.client:331:< Connection: upgrade\n",
      "2024-11-23 21:36:34 - DEBUG:websockets.client:331:< Date: Sun, 24 Nov 2024 02:36:34 GMT\n",
      "2024-11-23 21:36:34 - DEBUG:websockets.client:331:< upgrade: websocket\n",
      "2024-11-23 21:36:34 - DEBUG:websockets.client:331:< sec-websocket-accept: 7evwZieYpUYdeti4A8n2KmMT3lE=\n",
      "2024-11-23 21:36:34 - DEBUG:websockets.client:331:< sec-websocket-extensions: permessage-deflate\n",
      "2024-11-23 21:36:34 - DEBUG:websockets.client:331:< X-Cache: Miss from cloudfront\n",
      "2024-11-23 21:36:34 - DEBUG:websockets.client:331:< Via: 1.1 6c72f3d1226793372ca91070a470930e.cloudfront.net (CloudFront)\n",
      "2024-11-23 21:36:34 - DEBUG:websockets.client:331:< X-Amz-Cf-Pop: JFK52-P10\n",
      "2024-11-23 21:36:34 - DEBUG:websockets.client:331:< X-Amz-Cf-Id: teG3s8o11FktIgwktsYIFMW5aKjm-oc91XFJYi4dTLBeHNuXs4vlgA==\n",
      "2024-11-23 21:36:34 - DEBUG:websockets.client:175:= connection is OPEN\n",
      "2024-11-23 21:36:34 - DEBUG:websockets.client:745:> TEXT '{\"type\": \"SETUP\", \"channel\": 0, \"version\": \"0.1...tKeepaliveTimeout\": 60}' [116 bytes]\n",
      "2024-11-23 21:36:34 - DEBUG:websockets.client:745:> TEXT '{\"type\": \"AUTH\", \"channel\": 0, \"token\": \"dGFzdH...6wqDl9Bx1m-gYQZJA-TOI\"}' [181 bytes]\n",
      "2024-11-23 21:36:34 - DEBUG:websockets.client:745:> TEXT '{\"type\": \"CHANNEL_REQUEST\", \"service\": \"FEED\", ... \"AUTO\"}, \"channel\": 1}' [96 bytes]\n",
      "2024-11-23 21:36:34 - DEBUG:websockets.client:745:> TEXT '{\"type\": \"FEED_SETUP\", \"acceptAggregationPeriod...Price\"]}, \"channel\": 1}' [714 bytes]\n",
      "2024-11-23 21:36:34 - DEBUG:websockets.client:745:> TEXT '{\"type\": \"FEED_SUBSCRIPTION\", \"reset\": true, \"a...P5905\"}], \"channel\": 1}' [704 bytes]\n",
      "2024-11-23 21:36:34 - DEBUG:websockets.client:599:< TEXT '{\"type\":\"SETUP\",\"channel\":0,\"keepaliveTimeout\":...1.2.3-20240912-171526\"}' [116 bytes]\n",
      "2024-11-23 21:36:34 - DEBUG:websockets.client:599:< TEXT '{\"type\":\"AUTH_STATE\",\"channel\":0,\"state\":\"UNAUTHORIZED\"}' [56 bytes]\n",
      "2024-11-23 21:36:34 - INFO:tastytrade.messages:53:SETUP\n",
      "2024-11-23 21:36:34 - INFO:tastytrade.messages:58:AUTH_STATE:UNAUTHORIZED\n",
      "2024-11-23 21:36:34 - DEBUG:websockets.client:599:< TEXT '{\"type\":\"AUTH_STATE\",\"channel\":0,\"state\":\"AUTHO...10b-9b54-fe7a5a40a478\"}' [102 bytes]\n",
      "2024-11-23 21:36:34 - DEBUG:websockets.client:599:< TEXT '{\"type\":\"CHANNEL_OPENED\",\"channel\":1,\"service\":...O\",\"subFormat\":\"LIST\"}}' [106 bytes]\n",
      "2024-11-23 21:36:34 - DEBUG:websockets.client:599:< TEXT '{\"type\":\"FEED_CONFIG\",\"channel\":1,\"dataFormat\":...aggregationPeriod\":0.1}' [81 bytes]\n",
      "2024-11-23 21:36:34 - DEBUG:websockets.client:599:< TEXT '{\"type\":\"FEED_CONFIG\",\"channel\":1,\"dataFormat\":...\"theta\",\"rho\",\"vega\"]}}' [646 bytes]\n",
      "2024-11-23 21:36:34 - INFO:tastytrade.messages:58:AUTH_STATE:AUTHORIZED\n",
      "2024-11-23 21:36:34 - INFO:tastytrade.messages:63:CHANNEL_OPENED:1\n",
      "2024-11-23 21:36:34 - INFO:tastytrade.messages:68:FEED_CONFIG:1:COMPACT\n",
      "2024-11-23 21:36:34 - INFO:tastytrade.messages:68:FEED_CONFIG:1:COMPACT\n",
      "2024-11-23 21:36:34 - DEBUG:websockets.client:599:< TEXT '{\"type\":\"FEED_DATA\",\"channel\":1,\"data\":[\"Profil...,\"NaN\",600.17,453.34]]}' [294 bytes]\n",
      "2024-11-23 21:36:34 - DEBUG:tastytrade.messages:105:Processed Profile event for BTC/USD:CXTALP\n",
      "2024-11-23 21:36:34 - DEBUG:websockets.client:599:< TEXT '{\"type\":\"FEED_DATA\",\"channel\":1,\"data\":[\"Summar...6.15,593.1525,593.67]]}' [169 bytes]\n",
      "2024-11-23 21:36:34 - DEBUG:websockets.client:599:< TEXT '{\"type\":\"FEED_DATA\",\"channel\":1,\"data\":[\"Trade\"....51,3.822639E7,200.0]]}' [135 bytes]\n",
      "2024-11-23 21:36:34 - DEBUG:websockets.client:599:< TEXT '{\"type\":\"FEED_DATA\",\"channel\":1,\"data\":[\"Quote\"...7.02,98931.7,1.5,1.5]]}' [101 bytes]\n",
      "2024-11-23 21:36:34 - DEBUG:tastytrade.messages:105:Processed Summary event for BTC/USD:CXTALP\n",
      "2024-11-23 21:36:34 - DEBUG:tastytrade.messages:105:Processed Trade event for BTC/USD:CXTALP\n",
      "2024-11-23 21:36:34 - DEBUG:tastytrade.messages:105:Processed Quote event for BTC/USD:CXTALP\n",
      "2024-11-23 21:36:35 - INFO:tastytrade.session:341:Websocket listener stopped\n",
      "2024-11-23 21:36:35 - DEBUG:websockets.client:745:> CLOSE 1000 (OK) [2 bytes]\n",
      "2024-11-23 21:36:35 - DEBUG:websockets.client:175:= connection is CLOSING\n",
      "2024-11-23 21:36:35 - DEBUG:websockets.client:599:< CLOSE 1000 (OK) [2 bytes]\n",
      "2024-11-23 21:36:35 - DEBUG:websockets.client:649:< EOF\n",
      "2024-11-23 21:36:35 - DEBUG:websockets.client:757:> EOF\n",
      "2024-11-23 21:36:35 - DEBUG:websockets.client:175:= connection is CLOSED\n",
      "2024-11-23 21:36:35 - DEBUG:websockets.client:960:x closing TCP connection\n",
      "2024-11-23 21:36:35 - INFO:tastytrade.session:316:Websocket closed\n",
      "2024-11-23 21:36:35 - INFO:tastytrade.session:247:Session closed\n"
     ]
    }
   ],
   "source": [
    "channel = 1\n",
    "\n",
    "session = await AsyncSessionHandler.create(Credentials(env=ENV))\n",
    "\n",
    "async with WebSocketManager(session) as websocket:\n",
    "    dxlink_client = DXLinkClient(websocket)\n",
    "\n",
    "    await dxlink_client.request_channel(channel)\n",
    "    await dxlink_client.setup_feed(channel)\n",
    "    await dxlink_client.subscribe_to_feed(channel)\n",
    "    await asyncio.sleep(1)\n",
    "\n",
    "await session.close()"
   ]
  },
  {
   "cell_type": "code",
   "execution_count": 3,
   "metadata": {},
   "outputs": [
    {
     "name": "stdout",
     "output_type": "stream",
     "text": [
      "True\n"
     ]
    }
   ],
   "source": [
    "exlink = WebSocketManager(session)\n",
    "txlink = WebSocketManager(session)\n",
    "print(id(exlink) == id(txlink))"
   ]
  },
  {
   "cell_type": "code",
   "execution_count": 4,
   "metadata": {},
   "outputs": [
    {
     "data": {
      "text/plain": [
       "{'session': <tastytrade.session.AsyncSessionHandler at 0x1261bf850>,\n",
       " 'url': 'wss://tasty-openapi-ws.dxfeed.com/realtime',\n",
       " 'token': 'dGFzdHksYXBpLCwxNzMyNDYyMjU4LDE3MzIzNzU4NTgsVWZmODBiM2M3LTJiZjgtNDRkYi1hZmZkLWZiOWFhOGU5NDZkNQ.LhG8v6UhUxvn0VhXSEousB6wqDl9Bx1m-gYQZJA-TOI',\n",
       " 'message_handler': <tastytrade.messages.MessageHandler at 0x126203850>,\n",
       " 'channels': {},\n",
       " 'lock': <asyncio.locks.Lock object at 0x106033dd0 [unlocked]>}"
      ]
     },
     "execution_count": 4,
     "metadata": {},
     "output_type": "execute_result"
    }
   ],
   "source": [
    "txlink.__dict__"
   ]
  },
  {
   "cell_type": "code",
   "execution_count": 5,
   "metadata": {},
   "outputs": [
    {
     "data": {
      "text/plain": [
       "{<tastytrade.session.AsyncSessionHandler at 0x1261bf850>: <tastytrade.session.WebSocketManager at 0x105887d50>}"
      ]
     },
     "execution_count": 5,
     "metadata": {},
     "output_type": "execute_result"
    }
   ],
   "source": [
    "exlink.sessions"
   ]
  },
  {
   "cell_type": "code",
   "execution_count": 6,
   "metadata": {},
   "outputs": [
    {
     "name": "stderr",
     "output_type": "stream",
     "text": [
      "2024-11-23 21:36:35 - DEBUG:websockets.client:175:= connection is CONNECTING\n",
      "2024-11-23 21:36:35 - DEBUG:websockets.client:306:> GET /realtime HTTP/1.1\n",
      "2024-11-23 21:36:35 - DEBUG:websockets.client:308:> Host: tasty-openapi-ws.dxfeed.com\n",
      "2024-11-23 21:36:35 - DEBUG:websockets.client:308:> Upgrade: websocket\n",
      "2024-11-23 21:36:35 - DEBUG:websockets.client:308:> Connection: Upgrade\n",
      "2024-11-23 21:36:35 - DEBUG:websockets.client:308:> Sec-WebSocket-Key: Fp+NKggtmD+U6t6k5J8itg==\n",
      "2024-11-23 21:36:35 - DEBUG:websockets.client:308:> Sec-WebSocket-Version: 13\n",
      "2024-11-23 21:36:35 - DEBUG:websockets.client:308:> Sec-WebSocket-Extensions: permessage-deflate; client_max_window_bits\n",
      "2024-11-23 21:36:35 - DEBUG:websockets.client:308:> User-Agent: Python/3.11 websockets/14.1\n",
      "2024-11-23 21:36:35 - DEBUG:websockets.client:329:< HTTP/1.1 101 Switching Protocols\n",
      "2024-11-23 21:36:35 - DEBUG:websockets.client:331:< Connection: upgrade\n",
      "2024-11-23 21:36:35 - DEBUG:websockets.client:331:< Date: Sun, 24 Nov 2024 02:36:35 GMT\n",
      "2024-11-23 21:36:35 - DEBUG:websockets.client:331:< upgrade: websocket\n",
      "2024-11-23 21:36:35 - DEBUG:websockets.client:331:< sec-websocket-accept: cHp5QzjeDCjNrzcWNEa3HNOX+kM=\n",
      "2024-11-23 21:36:35 - DEBUG:websockets.client:331:< sec-websocket-extensions: permessage-deflate\n",
      "2024-11-23 21:36:35 - DEBUG:websockets.client:331:< X-Cache: Miss from cloudfront\n",
      "2024-11-23 21:36:35 - DEBUG:websockets.client:331:< Via: 1.1 dd795f2b5d3927d5f5c03f5e72cd09ac.cloudfront.net (CloudFront)\n",
      "2024-11-23 21:36:35 - DEBUG:websockets.client:331:< X-Amz-Cf-Pop: JFK52-P10\n",
      "2024-11-23 21:36:35 - DEBUG:websockets.client:331:< X-Amz-Cf-Id: EAq89Uhp0zdSkgzqmVmLgb2gbC4KbhCxAgBb8OB_FlTSC7WPMduL9g==\n",
      "2024-11-23 21:36:35 - DEBUG:websockets.client:175:= connection is OPEN\n",
      "2024-11-23 21:36:35 - DEBUG:websockets.client:745:> TEXT '{\"type\": \"SETUP\", \"channel\": 0, \"version\": \"0.1...tKeepaliveTimeout\": 60}' [116 bytes]\n",
      "2024-11-23 21:36:35 - DEBUG:websockets.client:745:> TEXT '{\"type\": \"AUTH\", \"channel\": 0, \"token\": \"dGFzdH...6wqDl9Bx1m-gYQZJA-TOI\"}' [181 bytes]\n"
     ]
    }
   ],
   "source": [
    "await exlink.open()"
   ]
  },
  {
   "cell_type": "code",
   "execution_count": 7,
   "metadata": {},
   "outputs": [
    {
     "name": "stderr",
     "output_type": "stream",
     "text": [
      "2024-11-23 21:36:35 - DEBUG:websockets.client:599:< TEXT '{\"type\":\"SETUP\",\"channel\":0,\"keepaliveTimeout\":...1.2.3-20240912-171526\"}' [116 bytes]\n",
      "2024-11-23 21:36:35 - DEBUG:websockets.client:599:< TEXT '{\"type\":\"AUTH_STATE\",\"channel\":0,\"state\":\"UNAUTHORIZED\"}' [56 bytes]\n",
      "2024-11-23 21:36:35 - INFO:tastytrade.messages:53:SETUP\n",
      "2024-11-23 21:36:35 - INFO:tastytrade.messages:58:AUTH_STATE:UNAUTHORIZED\n",
      "2024-11-23 21:36:35 - DEBUG:websockets.client:599:< TEXT '{\"type\":\"AUTH_STATE\",\"channel\":0,\"state\":\"AUTHO...7ae-8957-e356b39b225d\"}' [102 bytes]\n",
      "2024-11-23 21:36:35 - INFO:tastytrade.messages:58:AUTH_STATE:AUTHORIZED\n",
      "2024-11-23 21:36:40 - INFO:tastytrade.session:341:Websocket listener stopped\n",
      "2024-11-23 21:36:40 - DEBUG:websockets.client:599:< CLOSE 1000 (OK) [2 bytes]\n",
      "2024-11-23 21:36:40 - DEBUG:websockets.client:649:< EOF\n",
      "2024-11-23 21:36:40 - DEBUG:websockets.client:757:> EOF\n",
      "2024-11-23 21:36:40 - DEBUG:websockets.client:175:= connection is CLOSED\n",
      "2024-11-23 21:36:40 - DEBUG:websockets.client:960:x closing TCP connection\n"
     ]
    },
    {
     "name": "stderr",
     "output_type": "stream",
     "text": [
      "2024-11-23 21:36:40 - DEBUG:websockets.client:745:> CLOSE 1000 (OK) [2 bytes]\n",
      "2024-11-23 21:36:40 - DEBUG:websockets.client:175:= connection is CLOSING\n",
      "2024-11-23 21:36:40 - INFO:tastytrade.session:316:Websocket closed\n"
     ]
    }
   ],
   "source": [
    "await asyncio.sleep(5)\n",
    "await exlink.close()"
   ]
  },
  {
   "cell_type": "code",
   "execution_count": 8,
   "metadata": {},
   "outputs": [
    {
     "data": {
      "text/plain": [
       "{}"
      ]
     },
     "execution_count": 8,
     "metadata": {},
     "output_type": "execute_result"
    }
   ],
   "source": [
    "exlink.sessions"
   ]
  },
  {
   "cell_type": "code",
   "execution_count": 9,
   "metadata": {},
   "outputs": [],
   "source": [
    "# Injector Module Example\n",
    "\n",
    "# def configure(binder):\n",
    "#     binder.bind(Credentials, to=Credentials(env=ENV))\n",
    "\n",
    "\n",
    "# injector = Injector([configure])\n",
    "# session = injector.get(SessionHandler)\n",
    "\n",
    "# session.get_api_quote_token()\n",
    "\n",
    "# session = SessionHandler.create(Credentials(env=\"Test\"))\n",
    "\n",
    "# if TEST:\n",
    "#     session.create_session(Credentials(env=ENV))"
   ]
  },
  {
   "cell_type": "code",
   "execution_count": 10,
   "metadata": {},
   "outputs": [],
   "source": [
    "# new_response = request_options_chains(session, \"SPXW\")\n",
    "# options_chains_df = pd.DataFrame(new_response.json()[\"data\"][\"items\"])"
   ]
  },
  {
   "cell_type": "code",
   "execution_count": 11,
   "metadata": {},
   "outputs": [],
   "source": [
    "# columns = [\n",
    "#     \"underlying-symbol\",\n",
    "#     \"option-type\",\n",
    "#     \"strike-price\",\n",
    "#     \"streamer-symbol\",\n",
    "#     \"symbol\",\n",
    "# ]\n",
    "\n",
    "# rows = (options_chains_df[\"days-to-expiration\"] == 0) & (\n",
    "#     options_chains_df[\"strike-price\"].str.contains(r\"588|590|591\", regex=True)\n",
    "# )\n",
    "\n",
    "# options_chains_df.loc[rows, columns]"
   ]
  },
  {
   "cell_type": "code",
   "execution_count": 12,
   "metadata": {},
   "outputs": [],
   "source": [
    "# session.close_session()"
   ]
  }
 ],
 "metadata": {
  "kernelspec": {
   "display_name": "tasty",
   "language": "python",
   "name": "python3"
  },
  "language_info": {
   "codemirror_mode": {
    "name": "ipython",
    "version": 3
   },
   "file_extension": ".py",
   "mimetype": "text/x-python",
   "name": "python",
   "nbconvert_exporter": "python",
   "pygments_lexer": "ipython3",
   "version": "3.11.4"
  }
 },
 "nbformat": 4,
 "nbformat_minor": 2
}
