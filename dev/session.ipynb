{
 "cells": [
  {
   "cell_type": "code",
   "execution_count": 1,
   "metadata": {},
   "outputs": [],
   "source": [
    "import pprint\n",
    "import pandas as pd\n",
    "\n",
    "from tastytrade import Credentials\n",
    "from tastytrade.session import (\n",
    "    SessionHandler,\n",
    ")\n",
    "from tastytrade.intruments import request_options_chains\n",
    "\n",
    "from injector import Injector\n",
    "\n",
    "TEST = True\n",
    "ENV = \"Live\""
   ]
  },
  {
   "cell_type": "code",
   "execution_count": null,
   "metadata": {},
   "outputs": [],
   "source": [
    "def configure(binder):\n",
    "    binder.bind(Credentials, to=Credentials(env=ENV))\n",
    "\n",
    "\n",
    "injector = Injector([configure])\n",
    "session = injector.get(SessionHandler)\n",
    "\n",
    "# session.create_session()\n",
    "session.get_api_quote_token()"
   ]
  },
  {
   "cell_type": "code",
   "execution_count": null,
   "metadata": {},
   "outputs": [],
   "source": [
    "print(\"\\n\", pprint.pformat(vars(session)))\n",
    "\n",
    "if TEST:\n",
    "    session.create_session(**vars(Credentials(env=ENV)))"
   ]
  },
  {
   "cell_type": "code",
   "execution_count": null,
   "metadata": {},
   "outputs": [],
   "source": [
    "new_response = request_options_chains(session, \"SPX\")"
   ]
  },
  {
   "cell_type": "code",
   "execution_count": null,
   "metadata": {},
   "outputs": [],
   "source": [
    "options_chains_df = pd.DataFrame(new_response.json()[\"data\"][\"items\"])\n",
    "\n",
    "is_tradeble = options_chains_df[\"active\"] & ~options_chains_df[\"is-closing-only\"]\n",
    "options_chains_df.loc[is_tradeble].head(3)"
   ]
  },
  {
   "cell_type": "code",
   "execution_count": null,
   "metadata": {},
   "outputs": [],
   "source": [
    "columns = [\n",
    "    \"underlying-symbol\",\n",
    "    \"option-type\",\n",
    "    \"strike-price\",\n",
    "    \"streamer-symbol\",\n",
    "    \"symbol\",\n",
    "]\n",
    "\n",
    "rows = (\n",
    "    (options_chains_df[\"settlement-type\"] == options_chains_df[\"settlement-type\"].max())\n",
    "    & (options_chains_df[\"days-to-expiration\"] == options_chains_df[\"days-to-expiration\"].min())\n",
    "    & (options_chains_df[\"active\"] == 1)\n",
    "    & ~options_chains_df[\"is-closing-only\"]\n",
    ")\n",
    "\n",
    "options_chains_df.loc[rows, columns].sample(5)"
   ]
  },
  {
   "cell_type": "code",
   "execution_count": null,
   "metadata": {},
   "outputs": [],
   "source": [
    "options_chains_df.loc[rows, columns]"
   ]
  },
  {
   "cell_type": "code",
   "execution_count": null,
   "metadata": {},
   "outputs": [],
   "source": [
    "session.close_session()"
   ]
  },
  {
   "cell_type": "markdown",
   "metadata": {},
   "source": [
    "# Market Data Integration Guide\n",
    "\n",
    "## Overview\n",
    "This guide covers integrating with TastyTrade's market data API using Python WebSocket implementation, with a focus on asyncio-based approach.\n",
    "\n",
    "## TastyTrade API Resources\n",
    "- [Developer Portal](https://developer.tastytrade.com/)\n",
    "- [Streaming Market Data Documentation](https://developer.tastytrade.com/streaming-market-data/)\n",
    "- [DXLink Protocol Reference](https://demo.dxfeed.com/dxlink-ws/debug/#/protocol)\n",
    "\n",
    "## WebSocket Implementation Details\n",
    "\n",
    "### Selected Library\n",
    "We'll be using the [websockets](https://websockets.readthedocs.io/en/stable/) library for Python, which provides high-level WebSocket implementation (not to be confused with the lower-level `websocket` library).\n",
    "\n",
    "### Key Resources\n",
    "- **Documentation**: Complete guides available on [readthedocs.io](https://websockets.readthedocs.io/en/stable/)\n",
    "- **Reference Implementation**: [Example using Threading](https://github.com/LordKaT/tastytrade_api_thing/blob/main/lib/TTWebsocket.py) by [LordKaT](https://github.com/LordKaT)\n",
    "\n",
    "### Technical Approach\n",
    "The implementation will use `asyncio` due to its comprehensive [feature support](https://websockets.readthedocs.io/en/stable/reference/features.html) in the websockets library.\n",
    "\n",
    "### AsyncIO Learning Resources\n",
    "For better understanding of the asyncio implementation:\n",
    "- [How does async/await work in Python 3.5](https://snarky.ca/how-the-heck-does-async-await-work-in-python-3-5/)\n",
    "- [Cooperative multitasking with Coroutines](https://pymotw.com/3/asyncio/coroutines.html)\n",
    "- [A Curious course on Coroutines and Concurrency](http://www.dabeaz.com/coroutines/)\n",
    "\n",
    "## Implementation Notes\n",
    "While previous experience has been primarily with traditional threading, this project will explore asyncio-based implementation for its potential benefits in handling WebSocket connections."
   ]
  },
  {
   "cell_type": "code",
   "execution_count": 9,
   "metadata": {},
   "outputs": [],
   "source": [
    "import threading, time, websocket\n",
    "\n",
    "# Based off WebSocket example found here: https://github.com/LordKaT/tastytrade_api_thing/blob/main/lib/TTWebsocket.py"
   ]
  },
  {
   "cell_type": "code",
   "execution_count": null,
   "metadata": {},
   "outputs": [],
   "source": []
  }
 ],
 "metadata": {
  "kernelspec": {
   "display_name": "tasty",
   "language": "python",
   "name": "python3"
  },
  "language_info": {
   "codemirror_mode": {
    "name": "ipython",
    "version": 3
   },
   "file_extension": ".py",
   "mimetype": "text/x-python",
   "name": "python",
   "nbconvert_exporter": "python",
   "pygments_lexer": "ipython3",
   "version": "3.11.4"
  }
 },
 "nbformat": 4,
 "nbformat_minor": 2
}
