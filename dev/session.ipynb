{
 "cells": [
  {
   "cell_type": "code",
   "execution_count": 1,
   "metadata": {},
   "outputs": [],
   "source": [
    "import os\n",
    "import pprint\n",
    "import pandas as pd\n",
    "import json\n",
    "\n",
    "import requests\n",
    "\n",
    "from tastytrade import Credentials\n",
    "from tastytrade.session import (\n",
    "    SessionHandler,\n",
    ")\n",
    "from tastytrade.intruments import request_options_chains\n",
    "\n",
    "from injector import Injector, singleton\n",
    "\n",
    "from tastytrade.utilties import logger\n",
    "\n",
    "TEST = True\n",
    "ENV = \"Test\""
   ]
  },
  {
   "cell_type": "code",
   "execution_count": null,
   "metadata": {},
   "outputs": [],
   "source": [
    "def configure(binder):\n",
    "    binder.bind(Credentials, to=Credentials(env=ENV), scope=singleton)\n",
    "\n",
    "\n",
    "injector = Injector([configure])\n",
    "session = injector.get(SessionHandler)\n",
    "\n",
    "# session.create_session()\n",
    "session.get_api_quote_token()"
   ]
  },
  {
   "cell_type": "code",
   "execution_count": null,
   "metadata": {},
   "outputs": [],
   "source": [
    "print(\"\\n\", pprint.pformat(vars(session)))\n",
    "\n",
    "if TEST:\n",
    "    session.create_session(**vars(Credentials(env=ENV)))"
   ]
  },
  {
   "cell_type": "code",
   "execution_count": null,
   "metadata": {},
   "outputs": [],
   "source": [
    "new_response = request_options_chains(session, \"SPX\")"
   ]
  },
  {
   "cell_type": "code",
   "execution_count": null,
   "metadata": {},
   "outputs": [],
   "source": [
    "options_chains_df = pd.DataFrame(new_response.json()[\"data\"][\"items\"])\n",
    "\n",
    "is_tradeble = options_chains_df[\"active\"] & ~options_chains_df[\"is-closing-only\"]\n",
    "options_chains_df.loc[is_tradeble].head(3)"
   ]
  },
  {
   "cell_type": "code",
   "execution_count": null,
   "metadata": {},
   "outputs": [],
   "source": [
    "columns = [\n",
    "    \"underlying-symbol\",\n",
    "    \"option-type\",\n",
    "    \"strike-price\",\n",
    "    \"streamer-symbol\",\n",
    "    \"symbol\",\n",
    "]\n",
    "\n",
    "rows = (\n",
    "    (options_chains_df[\"settlement-type\"] == options_chains_df[\"settlement-type\"].max())\n",
    "    & (options_chains_df[\"days-to-expiration\"] == options_chains_df[\"days-to-expiration\"].min())\n",
    "    & (options_chains_df[\"active\"] == 1)\n",
    "    & ~options_chains_df[\"is-closing-only\"]\n",
    ")\n",
    "\n",
    "options_chains_df.loc[rows, columns].sample(5)"
   ]
  },
  {
   "cell_type": "code",
   "execution_count": null,
   "metadata": {},
   "outputs": [],
   "source": [
    "options_chains_df.loc[rows, columns]"
   ]
  },
  {
   "cell_type": "code",
   "execution_count": null,
   "metadata": {},
   "outputs": [],
   "source": [
    "session.close_session()"
   ]
  },
  {
   "cell_type": "markdown",
   "metadata": {},
   "source": [
    "# WebSocket Implementation\n",
    "\n",
    "I will be using [Websockets](https://websockets.readthedocs.io/en/stable/), not to be confused with `websocket` which is a low-level library.\n",
    "\n",
    "* [Documentation](https://websockets.readthedocs.io/en/stable/) on readthedocs.io includes \"Getting Started\" and \"How-To\" guides\n",
    "* [Example](https://github.com/LordKaT/tastytrade_api_thing/blob/main/lib/TTWebsocket.py) using Threading - credit: [LordKaT](https://github.com/LordKaT)\n",
    " \n",
    "According to the documentation, the package is built on `AsyncIO`. Here is a list of supported features: [features support matrix](https://websockets.readthedocs.io/en/stable/reference/features.html).  You'll notice the most exapnsive coverage comes with `AsyncIO`. \n",
    "\n",
    "Since I haven't yet had a good use case for building an application on this technology, having only touched tradiotnal Threads, I'll start off with `AsyncIO` and see how far I get."
   ]
  },
  {
   "cell_type": "code",
   "execution_count": 9,
   "metadata": {},
   "outputs": [],
   "source": [
    "import threading, time, websocket\n",
    "\n",
    "# Based off WebSocket example found here: https://github.com/LordKaT/tastytrade_api_thing/blob/main/lib/TTWebsocket.py"
   ]
  },
  {
   "cell_type": "code",
   "execution_count": null,
   "metadata": {},
   "outputs": [],
   "source": []
  }
 ],
 "metadata": {
  "kernelspec": {
   "display_name": "tasty",
   "language": "python",
   "name": "python3"
  },
  "language_info": {
   "codemirror_mode": {
    "name": "ipython",
    "version": 3
   },
   "file_extension": ".py",
   "mimetype": "text/x-python",
   "name": "python",
   "nbconvert_exporter": "python",
   "pygments_lexer": "ipython3",
   "version": "3.11.4"
  }
 },
 "nbformat": 4,
 "nbformat_minor": 2
}
